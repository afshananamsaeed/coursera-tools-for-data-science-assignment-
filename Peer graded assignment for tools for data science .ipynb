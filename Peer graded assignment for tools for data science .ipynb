{
    "cells": [
        {
            "metadata": {
                "collapsed": true
            },
            "cell_type": "markdown",
            "source": "# My Jupyter Notebook on IBM Watson Studio"
        },
        {
            "metadata": {},
            "cell_type": "markdown",
            "source": "**Afshan Anam Saeed**\n\nAn aspiring Data Scientist"
        },
        {
            "metadata": {},
            "cell_type": "markdown",
            "source": "*I am interested in data science because it is a whole new environment which plays the role of fulfilling curosity. I love playing around with data and thus, this is why I am here.*"
        },
        {
            "metadata": {},
            "cell_type": "markdown",
            "source": "### In the cell below, I am going to add the numbers 3 and 4."
        },
        {
            "metadata": {},
            "cell_type": "code",
            "source": "3+4",
            "execution_count": 3,
            "outputs": [
                {
                    "output_type": "execute_result",
                    "execution_count": 3,
                    "data": {
                        "text/plain": "7"
                    },
                    "metadata": {}
                }
            ]
        },
        {
            "metadata": {},
            "cell_type": "markdown",
            "source": "I am going to create an ordered list of fruits\n1. Mango\n2. Apple\n3. Banana\n4. Melon\n5. Papaya \n\nI can also make a bulleted list of this\n* Mango\n* Apple\n* Banana\n* Melon\n* Papaya\n\n\nNext I will create a horizontal line \n***\n\nNext up I am making a table that will describe the cost of fruits per kg (in Rupee)\n\n|Fruit|Availability|Price|\n|---|---|---|\n|Mango|`Available`|50|\n|Apple|`Available`|30|\n|Banana|`Available`|20|\n|Melon|Unavailable|40|\n|Papaya|Unavailable|50|\n\nI will again give a horizontal line\n***\n\nI am creating a link for you to go to google so you can google whatever you want.\n[Go to Google](https://www.google.com)\n"
        },
        {
            "metadata": {},
            "cell_type": "code",
            "source": "",
            "execution_count": null,
            "outputs": []
        }
    ],
    "metadata": {
        "kernelspec": {
            "name": "python3",
            "display_name": "Python 3.6",
            "language": "python"
        },
        "language_info": {
            "name": "python",
            "version": "3.6.9",
            "mimetype": "text/x-python",
            "codemirror_mode": {
                "name": "ipython",
                "version": 3
            },
            "pygments_lexer": "ipython3",
            "nbconvert_exporter": "python",
            "file_extension": ".py"
        }
    },
    "nbformat": 4,
    "nbformat_minor": 1
}